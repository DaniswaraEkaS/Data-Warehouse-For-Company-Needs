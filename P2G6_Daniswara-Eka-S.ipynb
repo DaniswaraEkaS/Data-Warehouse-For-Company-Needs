{
 "cells": [
  {
   "attachments": {},
   "cell_type": "markdown",
   "id": "75a04586-4e65-47d2-9213-4fc82c115f34",
   "metadata": {},
   "source": [
    "# Introduction\n",
    "Link Google Slide `https://docs.google.com/presentation/d/1Vtk3Qc7Lo-hX6Qb5ctC4Qkkn2HUeJvJ0VpmygEM5t_4/edit?usp=sharing`\n",
    "\n",
    "CODA-RMT-002 - Daniswara Eka Saputra\n",
    "\n",
    "Membuat Data Warehouse untuk kebutuhan analisis perusahaan terkait dengan penjualan perusahaan ecommerce 'The Look'. Dataset yang digunakan berasal dari Google BigQuery database \"thelook_ecommerce\"."
   ]
  },
  {
   "cell_type": "markdown",
   "id": "6da51b83-ac47-4c14-985f-8203a4f1b98d",
   "metadata": {},
   "source": [
    "## Getting Started"
   ]
  },
  {
   "cell_type": "code",
   "execution_count": 1,
   "id": "67c3588d-1b60-42e1-8f00-302cdbc88791",
   "metadata": {},
   "outputs": [],
   "source": [
    "import pyspark\n",
    "from pyspark.sql.functions import avg, max, min, sum, col, when, concat_ws\n",
    "from pyspark.sql.types import StructType, StructField, StringType, IntegerType, FloatType\n",
    "from pyspark.sql import SparkSession\n"
   ]
  },
  {
   "cell_type": "code",
   "execution_count": 2,
   "id": "ee86da8d-6880-4a0f-b14e-13ff13a370f3",
   "metadata": {},
   "outputs": [
    {
     "data": {
      "text/html": [
       "\n",
       "            <div>\n",
       "                <p><b>SparkSession - in-memory</b></p>\n",
       "                \n",
       "        <div>\n",
       "            <p><b>SparkContext</b></p>\n",
       "\n",
       "            <p><a href=\"http://80f2a4b20af4:4040\">Spark UI</a></p>\n",
       "\n",
       "            <dl>\n",
       "              <dt>Version</dt>\n",
       "                <dd><code>v4.0.0-preview2</code></dd>\n",
       "              <dt>Master</dt>\n",
       "                <dd><code>local[*]</code></dd>\n",
       "              <dt>AppName</dt>\n",
       "                <dd><code>WriteToPostgres</code></dd>\n",
       "            </dl>\n",
       "        </div>\n",
       "        \n",
       "            </div>\n",
       "        "
      ],
      "text/plain": [
       "<pyspark.sql.session.SparkSession at 0x7f37bf15b1d0>"
      ]
     },
     "execution_count": 2,
     "metadata": {},
     "output_type": "execute_result"
    }
   ],
   "source": [
    "spark = SparkSession.builder \\\n",
    "    .appName(\"WriteToPostgres\") \\\n",
    "    .config(\"spark.jars.packages\", \"org.postgresql:postgresql:42.6.0\") \\\n",
    "    .getOrCreate()\n",
    "spark"
   ]
  },
  {
   "cell_type": "markdown",
   "id": "1bb94e8c-c94c-4712-a26e-43a40ca003d4",
   "metadata": {
    "jp-MarkdownHeadingCollapsed": true
   },
   "source": [
    "## Data Transformation and Data Cleaning"
   ]
  },
  {
   "cell_type": "markdown",
   "id": "6183ef45-a1a3-4ed0-8a19-61716e70d0da",
   "metadata": {},
   "source": [
    "# Fact Table"
   ]
  },
  {
   "cell_type": "markdown",
   "id": "8955da21-036d-4ec2-9862-c3b7548949e4",
   "metadata": {},
   "source": [
    "## Order Table"
   ]
  },
  {
   "cell_type": "code",
   "execution_count": 3,
   "id": "631d6b67-8a2c-4ac1-bacd-415fa112be73",
   "metadata": {},
   "outputs": [
    {
     "name": "stdout",
     "output_type": "stream",
     "text": [
      "+--------+-------+------------------+-----------+\n",
      "|order_id|user_id|transaction_amount|num_of_item|\n",
      "+--------+-------+------------------+-----------+\n",
      "|  104671|  83488|0.0199999995529651|          1|\n",
      "|   75102|  59812|0.4900000095367431|          1|\n",
      "|   95464|  76145|0.4900000095367431|          1|\n",
      "|   44227|  35291|0.4900000095367431|          1|\n",
      "|   29481|  23526|0.4900000095367431|          1|\n",
      "|   83889|  66888|0.4900000095367431|          1|\n",
      "|   47466|  37845|               1.5|          1|\n",
      "|    3418|   2733|               1.5|          1|\n",
      "|   22090|  17520|               1.5|          1|\n",
      "|  115183|  91834|               1.5|          1|\n",
      "|   79624|  63441|               1.5|          1|\n",
      "|  110920|  88445|               1.5|          1|\n",
      "|   62914|  50114|1.5099999904632568|          1|\n",
      "|   87795|  70019|1.5099999904632568|          1|\n",
      "|     212|    169|1.5099999904632568|          1|\n",
      "|    9503|   7548|1.5099999904632568|          1|\n",
      "|  106627|  85019|1.5099999904632568|          1|\n",
      "|   19665|  15562|1.5099999904632568|          1|\n",
      "|  108564|  86553|1.5099999904632568|          1|\n",
      "|   67312|  53633|1.7200000286102295|          1|\n",
      "+--------+-------+------------------+-----------+\n",
      "only showing top 20 rows\n",
      "\n"
     ]
    }
   ],
   "source": [
    "fact_order = spark.read.csv('Fact_Order.csv', header=True, inferSchema=True)\n",
    "fact_order.show()"
   ]
  },
  {
   "cell_type": "markdown",
   "id": "e7eb5454-b66f-4a4e-a50f-0aba665e6aea",
   "metadata": {},
   "source": [
    "Menampilkan skema data dari tabel fact_order"
   ]
  },
  {
   "cell_type": "code",
   "execution_count": 4,
   "id": "97f58c8f-aa5b-4d5f-8c1f-67e3a996964e",
   "metadata": {},
   "outputs": [
    {
     "name": "stdout",
     "output_type": "stream",
     "text": [
      "root\n",
      " |-- order_id: integer (nullable = true)\n",
      " |-- user_id: integer (nullable = true)\n",
      " |-- transaction_amount: double (nullable = true)\n",
      " |-- num_of_item: integer (nullable = true)\n",
      "\n"
     ]
    }
   ],
   "source": [
    "fact_order.printSchema()"
   ]
  },
  {
   "cell_type": "markdown",
   "id": "4f24e7d3-c862-4cf8-a6c5-def00befc99e",
   "metadata": {},
   "source": [
    "Menampilkan statistik data dari tabel fact_order"
   ]
  },
  {
   "cell_type": "code",
   "execution_count": 5,
   "id": "66a63014-0995-4963-9362-a1de1644ea4c",
   "metadata": {},
   "outputs": [
    {
     "name": "stdout",
     "output_type": "stream",
     "text": [
      "+-------+------------------+------------------+------------------+------------------+\n",
      "|summary|          order_id|           user_id|transaction_amount|       num_of_item|\n",
      "+-------+------------------+------------------+------------------+------------------+\n",
      "|  count|            125431|            125431|            125431|            125431|\n",
      "|   mean|           62716.0| 49994.80973603017|  86.7678536465046|1.4523921518603853|\n",
      "| stddev|36208.955144641426|28877.211338771685| 93.94987146188836|0.8089699810984198|\n",
      "|    min|                 1|                 1|0.0199999995529651|                 1|\n",
      "|    max|            125431|             99998|1696.9900016784668|                 4|\n",
      "+-------+------------------+------------------+------------------+------------------+\n",
      "\n"
     ]
    }
   ],
   "source": [
    "fact_order.describe().show()"
   ]
  },
  {
   "cell_type": "markdown",
   "id": "910453ad-7ce8-47ba-8481-c82004111bb2",
   "metadata": {},
   "source": [
    "Melihat null value dari tabel"
   ]
  },
  {
   "cell_type": "code",
   "execution_count": 6,
   "id": "944ff83f-ddf2-4683-be5b-d7b2ac9dbc70",
   "metadata": {},
   "outputs": [
    {
     "name": "stdout",
     "output_type": "stream",
     "text": [
      "+--------+-------+------------------+-----------+\n",
      "|order_id|user_id|transaction_amount|num_of_item|\n",
      "+--------+-------+------------------+-----------+\n",
      "|       0|      0|                 0|          0|\n",
      "+--------+-------+------------------+-----------+\n",
      "\n"
     ]
    }
   ],
   "source": [
    "fact_order.select(*(sum(col(c).isNull().cast(\"int\")).alias(c) for c in fact_order.columns)).show()"
   ]
  },
  {
   "cell_type": "markdown",
   "id": "0c62d342-71d5-4ab5-b92d-56847dbc8a1c",
   "metadata": {},
   "source": [
    "Bisa dilihat dari semua kolom tidak terdapat null value"
   ]
  },
  {
   "cell_type": "markdown",
   "id": "67bcde4d-5984-4b1e-87f0-21f260b8c374",
   "metadata": {},
   "source": [
    "Mengecek data duplicates yang ada pada tabel"
   ]
  },
  {
   "cell_type": "code",
   "execution_count": 7,
   "id": "752dfcf8-7647-48c2-9f16-fbdfdf4ea008",
   "metadata": {},
   "outputs": [
    {
     "name": "stdout",
     "output_type": "stream",
     "text": [
      "+--------+-------+------------------+-----------+\n",
      "|order_id|user_id|transaction_amount|num_of_item|\n",
      "+--------+-------+------------------+-----------+\n",
      "+--------+-------+------------------+-----------+\n",
      "\n"
     ]
    }
   ],
   "source": [
    "fact_order.exceptAll(fact_order.dropDuplicates()).show()"
   ]
  },
  {
   "cell_type": "markdown",
   "id": "3b173df8-0a2c-40a2-aef8-36b9c915c5da",
   "metadata": {},
   "source": [
    "Dari semua kolom tidak ada data yang duplicates"
   ]
  },
  {
   "cell_type": "markdown",
   "id": "edee54a2-6871-450a-a43f-640ffacc9a59",
   "metadata": {},
   "source": [
    "# Dimension Table"
   ]
  },
  {
   "cell_type": "markdown",
   "id": "55dd3cfd-adb9-4cf4-ba5a-b5c1f2469f3e",
   "metadata": {},
   "source": [
    "## Users table"
   ]
  },
  {
   "cell_type": "code",
   "execution_count": 8,
   "id": "c53969c0-e542-4cd9-b511-59043d3fe64e",
   "metadata": {
    "scrolled": true
   },
   "outputs": [
    {
     "name": "stdout",
     "output_type": "stream",
     "text": [
      "+-----+----------+---------+--------------------+---+------+-----+--------------------+-----------+--------+-------+------------+------------+--------------+\n",
      "|   id|first_name|last_name|               email|age|gender|state|      street_address|postal_code|    city|country|    latitude|   longitude|traffic_source|\n",
      "+-----+----------+---------+--------------------+---+------+-----+--------------------+-----------+--------+-------+------------+------------+--------------+\n",
      "|35166|   Michael|   Stokes|michaelstokes@exa...| 61|     M| Acre|53410 Wilson Poin...|  69980-000|    null| Brasil|-8.065346116|-72.87094866|        Search|\n",
      "|94007|      Paul|  Cochran|paulcochran@examp...| 65|     M| Acre|   72561 Nathan Lake|  69980-000|    null| Brasil|-8.065346116|-72.87094866|       Organic|\n",
      "|40471|   Breanna| Thompson|breannathompson@e...| 51|     F| Acre|8287 Fisher Shoal...|  69980-000|    null| Brasil|-8.065346116|-72.87094866|        Search|\n",
      "|93377|    Thomas|   Moreno|thomasmoreno@exam...| 39|     M| Acre|     5183 Julia Port|  69980-000|    null| Brasil|-8.065346116|-72.87094866|       Organic|\n",
      "|59515|    Justin|  Griffin|justingriffin@exa...| 13|     M| Acre| 0635 Gibson Mission|  69980-000|    null| Brasil|-8.065346116|-72.87094866|       Organic|\n",
      "|96093|   Timothy|   Krause|timothykrause@exa...| 29|     M| Acre|0242 Jennings Ram...|  69980-000|    null| Brasil|-8.065346116|-72.87094866|       Organic|\n",
      "|51708|  Cheyenne|    Henry|cheyennehenry@exa...| 48|     F| Acre|  15379 Li Crossroad|  69980-000|    null| Brasil|-8.065346116|-72.87094866|        Search|\n",
      "| 9389|     David|      Fry|davidfry@example.com| 70|     M| Acre|68793 Burke Cliff...|  69980-000|    null| Brasil|-8.065346116|-72.87094866|        Search|\n",
      "|48774|   Belinda|   Taylor|belindataylor@exa...| 69|     F| Acre|     467 Brooks Mall|  69980-000|    null| Brasil|-8.065346116|-72.87094866|        Search|\n",
      "| 4059|    Austin|     Mann|austinmann@exampl...| 65|     M| Acre|5623 Davis Cove S...|  69980-000|    null| Brasil|-8.065346116|-72.87094866|        Search|\n",
      "|75246|   Shannon|   Murphy|shannonmurphy@exa...| 51|     F| Acre|    402 William Isle|  69980-000|    null| Brasil|-8.065346116|-72.87094866|       Organic|\n",
      "|12577|    Sandra| Hatfield|sandrahatfield@ex...| 44|     F| Acre|465 Mark Square A...|  69980-000|    null| Brasil|-8.065346116|-72.87094866|        Search|\n",
      "| 2044|     Julie|    Hicks|juliehicks@exampl...| 27|     F| Acre|  83024 Peter Fields|  69980-000|    null| Brasil|-8.065346116|-72.87094866|        Search|\n",
      "|53831|      Paul|   Porter|paulporter@exampl...| 56|     M| Acre|   578 Carrillo Glen|  69980-000|    null| Brasil|-8.065346116|-72.87094866|      Facebook|\n",
      "|50197|  Danielle|  Pearson|daniellepearson@e...| 48|     F| Acre|564 Robert Brooks...|  69980-000|    null| Brasil|-8.065346116|-72.87094866|        Search|\n",
      "|58512|    Hayden|  Ramirez|haydenramirez@exa...| 14|     M| Acre|81706 Ferguson Vista|  69980-000|    null| Brasil|-8.065346116|-72.87094866|       Organic|\n",
      "|28112|    George|   Barber|georgebarber@exam...| 43|     M| Acre|    78698 Paige Pass|  69970-000|Tarauacá| Brasil|-8.325245103|-71.55302951|        Search|\n",
      "|42362|   Garrett|  Sanchez|garrettsanchez@ex...| 30|     M| Acre|  32393 Moore Brooks|  69970-000|Tarauacá| Brasil|-8.325245103|-71.55302951|       Organic|\n",
      "|58601|    Robert|    Petty|robertpetty@examp...| 15|     M| Acre|64963 Hall Plaza ...|  69970-000|Tarauacá| Brasil|-8.325245103|-71.55302951|        Search|\n",
      "|89879|     David|    Baker|davidbaker@exampl...| 20|     M| Acre|  8676 Ryan Motorway|  69970-000|Tarauacá| Brasil|-8.325245103|-71.55302951|        Search|\n",
      "+-----+----------+---------+--------------------+---+------+-----+--------------------+-----------+--------+-------+------------+------------+--------------+\n",
      "only showing top 20 rows\n",
      "\n"
     ]
    }
   ],
   "source": [
    "dim_users = spark.read.csv('dim_users.csv', header=True, inferSchema=True)\n",
    "dim_users.show()"
   ]
  },
  {
   "cell_type": "markdown",
   "id": "537404fd-b9ca-4253-a046-f800fa5d46a5",
   "metadata": {},
   "source": [
    "Menampilkan skema data dari tabel dim_users"
   ]
  },
  {
   "cell_type": "code",
   "execution_count": 9,
   "id": "2bb0c01d-4c4d-47ae-af27-401deae3bd6a",
   "metadata": {},
   "outputs": [
    {
     "name": "stdout",
     "output_type": "stream",
     "text": [
      "root\n",
      " |-- id: integer (nullable = true)\n",
      " |-- first_name: string (nullable = true)\n",
      " |-- last_name: string (nullable = true)\n",
      " |-- email: string (nullable = true)\n",
      " |-- age: integer (nullable = true)\n",
      " |-- gender: string (nullable = true)\n",
      " |-- state: string (nullable = true)\n",
      " |-- street_address: string (nullable = true)\n",
      " |-- postal_code: string (nullable = true)\n",
      " |-- city: string (nullable = true)\n",
      " |-- country: string (nullable = true)\n",
      " |-- latitude: double (nullable = true)\n",
      " |-- longitude: double (nullable = true)\n",
      " |-- traffic_source: string (nullable = true)\n",
      "\n"
     ]
    }
   ],
   "source": [
    "dim_users.printSchema()"
   ]
  },
  {
   "cell_type": "markdown",
   "id": "ce640d07-f8df-47fb-8907-d102ee4b05e1",
   "metadata": {},
   "source": [
    "Menampilkan statistik data dari tabel dim_users"
   ]
  },
  {
   "cell_type": "code",
   "execution_count": 10,
   "id": "6012c04d-3c95-4237-b4a5-1c74cfce364c",
   "metadata": {},
   "outputs": [
    {
     "name": "stdout",
     "output_type": "stream",
     "text": [
      "+-------+------------------+----------+---------+--------------------+------------------+------+-------------+--------------------+------------------+-----------+-------------+------------------+------------------+--------------+\n",
      "|summary|                id|first_name|last_name|               email|               age|gender|        state|      street_address|       postal_code|       city|      country|          latitude|         longitude|traffic_source|\n",
      "+-------+------------------+----------+---------+--------------------+------------------+------+-------------+--------------------+------------------+-----------+-------------+------------------+------------------+--------------+\n",
      "|  count|            100000|    100000|   100000|              100000|            100000|100000|       100000|              100000|            100000|     100000|       100000|            100000|            100000|        100000|\n",
      "|   mean|           50000.5|      NULL|     NULL|                NULL|          40.89248|  NULL|         NULL|                NULL|181907.48525067832|       NULL|         NULL|28.262057879797577|24.850937973210918|          NULL|\n",
      "| stddev|28867.657796687778|      NULL|     NULL|                NULL|16.955808870241036|  NULL|         NULL|                NULL|202829.61535863523|       NULL|         NULL|22.088639669286778| 89.95190107199106|          NULL|\n",
      "|    min|                 1|     Aaron|   Abbott|aaronadams@exampl...|                12|     F|         Acre|000 Benjamin Forg...|          003-0021|A Ramallosa|    Australia|      -43.16075567|      -158.1649311|       Display|\n",
      "|    max|            100000|       Zoe|   Zuniga|zoewilson@example...|                70|     M|Île-de-France|99997 Joshua Dale...|               YO8|      海 名|United States|       64.86519412|       153.5602377|        Search|\n",
      "+-------+------------------+----------+---------+--------------------+------------------+------+-------------+--------------------+------------------+-----------+-------------+------------------+------------------+--------------+\n",
      "\n"
     ]
    }
   ],
   "source": [
    "dim_users.describe().show()"
   ]
  },
  {
   "cell_type": "markdown",
   "id": "9a051660-1d6e-440c-8962-aecfdfcb2434",
   "metadata": {},
   "source": [
    "Mengecek null value di semua kolom"
   ]
  },
  {
   "cell_type": "code",
   "execution_count": 11,
   "id": "32e18bf6-3d58-4609-b712-a36f04003f2c",
   "metadata": {},
   "outputs": [
    {
     "name": "stdout",
     "output_type": "stream",
     "text": [
      "+---+----------+---------+-----+---+------+-----+--------------+-----------+----+-------+--------+---------+--------------+\n",
      "| id|first_name|last_name|email|age|gender|state|street_address|postal_code|city|country|latitude|longitude|traffic_source|\n",
      "+---+----------+---------+-----+---+------+-----+--------------+-----------+----+-------+--------+---------+--------------+\n",
      "|  0|         0|        0|    0|  0|     0|    0|             0|          0|   0|      0|       0|        0|             0|\n",
      "+---+----------+---------+-----+---+------+-----+--------------+-----------+----+-------+--------+---------+--------------+\n",
      "\n"
     ]
    }
   ],
   "source": [
    "dim_users.select(*(sum(col(c).isNull().cast(\"int\")).alias(c) for c in dim_users.columns)).show()"
   ]
  },
  {
   "cell_type": "markdown",
   "id": "4bb92c73-993e-4e5a-956c-35379e0d953e",
   "metadata": {},
   "source": [
    "Dilihat dari hasil semua kolom tidak ada null value, akan tetapi dilihat dari data diatas banyak terdapat null pada kolom city. "
   ]
  },
  {
   "cell_type": "markdown",
   "id": "7ee4064d-fbd7-433b-89e1-2cbca8137491",
   "metadata": {},
   "source": [
    "Disini memfilter 'null' string value yang ada pada kolom city, ternyata memang banyak data dari yang berisikan string 'null' ini."
   ]
  },
  {
   "cell_type": "code",
   "execution_count": 12,
   "id": "141e166d-f33a-483d-a7aa-b9e59caba5c8",
   "metadata": {},
   "outputs": [
    {
     "name": "stdout",
     "output_type": "stream",
     "text": [
      "+-----+----------+---------+--------------------+---+------+-----+--------------------+-----------+----+-------+------------+------------+--------------+\n",
      "|   id|first_name|last_name|               email|age|gender|state|      street_address|postal_code|city|country|    latitude|   longitude|traffic_source|\n",
      "+-----+----------+---------+--------------------+---+------+-----+--------------------+-----------+----+-------+------------+------------+--------------+\n",
      "|35166|   Michael|   Stokes|michaelstokes@exa...| 61|     M| Acre|53410 Wilson Poin...|  69980-000|null| Brasil|-8.065346116|-72.87094866|        Search|\n",
      "|94007|      Paul|  Cochran|paulcochran@examp...| 65|     M| Acre|   72561 Nathan Lake|  69980-000|null| Brasil|-8.065346116|-72.87094866|       Organic|\n",
      "|40471|   Breanna| Thompson|breannathompson@e...| 51|     F| Acre|8287 Fisher Shoal...|  69980-000|null| Brasil|-8.065346116|-72.87094866|        Search|\n",
      "|93377|    Thomas|   Moreno|thomasmoreno@exam...| 39|     M| Acre|     5183 Julia Port|  69980-000|null| Brasil|-8.065346116|-72.87094866|       Organic|\n",
      "|59515|    Justin|  Griffin|justingriffin@exa...| 13|     M| Acre| 0635 Gibson Mission|  69980-000|null| Brasil|-8.065346116|-72.87094866|       Organic|\n",
      "+-----+----------+---------+--------------------+---+------+-----+--------------------+-----------+----+-------+------------+------------+--------------+\n",
      "only showing top 5 rows\n",
      "\n"
     ]
    }
   ],
   "source": [
    "dim_users.filter(dim_users.city == 'null').show(5)"
   ]
  },
  {
   "cell_type": "markdown",
   "id": "3f5cc8ab-022a-48a6-9fd1-42e7647a130a",
   "metadata": {},
   "source": [
    "Disini mengganti 'null' (string) dengan null value (none)"
   ]
  },
  {
   "cell_type": "code",
   "execution_count": 13,
   "id": "e62e16ad-61cd-4414-88f0-11567fa42820",
   "metadata": {},
   "outputs": [
    {
     "name": "stdout",
     "output_type": "stream",
     "text": [
      "+-----+----------+---------+--------------------+---+------+-----+--------------------+-----------+--------+-------+------------+------------+--------------+\n",
      "|   id|first_name|last_name|               email|age|gender|state|      street_address|postal_code|    city|country|    latitude|   longitude|traffic_source|\n",
      "+-----+----------+---------+--------------------+---+------+-----+--------------------+-----------+--------+-------+------------+------------+--------------+\n",
      "|35166|   Michael|   Stokes|michaelstokes@exa...| 61|     M| Acre|53410 Wilson Poin...|  69980-000|    NULL| Brasil|-8.065346116|-72.87094866|        Search|\n",
      "|94007|      Paul|  Cochran|paulcochran@examp...| 65|     M| Acre|   72561 Nathan Lake|  69980-000|    NULL| Brasil|-8.065346116|-72.87094866|       Organic|\n",
      "|40471|   Breanna| Thompson|breannathompson@e...| 51|     F| Acre|8287 Fisher Shoal...|  69980-000|    NULL| Brasil|-8.065346116|-72.87094866|        Search|\n",
      "|93377|    Thomas|   Moreno|thomasmoreno@exam...| 39|     M| Acre|     5183 Julia Port|  69980-000|    NULL| Brasil|-8.065346116|-72.87094866|       Organic|\n",
      "|59515|    Justin|  Griffin|justingriffin@exa...| 13|     M| Acre| 0635 Gibson Mission|  69980-000|    NULL| Brasil|-8.065346116|-72.87094866|       Organic|\n",
      "|96093|   Timothy|   Krause|timothykrause@exa...| 29|     M| Acre|0242 Jennings Ram...|  69980-000|    NULL| Brasil|-8.065346116|-72.87094866|       Organic|\n",
      "|51708|  Cheyenne|    Henry|cheyennehenry@exa...| 48|     F| Acre|  15379 Li Crossroad|  69980-000|    NULL| Brasil|-8.065346116|-72.87094866|        Search|\n",
      "| 9389|     David|      Fry|davidfry@example.com| 70|     M| Acre|68793 Burke Cliff...|  69980-000|    NULL| Brasil|-8.065346116|-72.87094866|        Search|\n",
      "|48774|   Belinda|   Taylor|belindataylor@exa...| 69|     F| Acre|     467 Brooks Mall|  69980-000|    NULL| Brasil|-8.065346116|-72.87094866|        Search|\n",
      "| 4059|    Austin|     Mann|austinmann@exampl...| 65|     M| Acre|5623 Davis Cove S...|  69980-000|    NULL| Brasil|-8.065346116|-72.87094866|        Search|\n",
      "|75246|   Shannon|   Murphy|shannonmurphy@exa...| 51|     F| Acre|    402 William Isle|  69980-000|    NULL| Brasil|-8.065346116|-72.87094866|       Organic|\n",
      "|12577|    Sandra| Hatfield|sandrahatfield@ex...| 44|     F| Acre|465 Mark Square A...|  69980-000|    NULL| Brasil|-8.065346116|-72.87094866|        Search|\n",
      "| 2044|     Julie|    Hicks|juliehicks@exampl...| 27|     F| Acre|  83024 Peter Fields|  69980-000|    NULL| Brasil|-8.065346116|-72.87094866|        Search|\n",
      "|53831|      Paul|   Porter|paulporter@exampl...| 56|     M| Acre|   578 Carrillo Glen|  69980-000|    NULL| Brasil|-8.065346116|-72.87094866|      Facebook|\n",
      "|50197|  Danielle|  Pearson|daniellepearson@e...| 48|     F| Acre|564 Robert Brooks...|  69980-000|    NULL| Brasil|-8.065346116|-72.87094866|        Search|\n",
      "|58512|    Hayden|  Ramirez|haydenramirez@exa...| 14|     M| Acre|81706 Ferguson Vista|  69980-000|    NULL| Brasil|-8.065346116|-72.87094866|       Organic|\n",
      "|28112|    George|   Barber|georgebarber@exam...| 43|     M| Acre|    78698 Paige Pass|  69970-000|Tarauacá| Brasil|-8.325245103|-71.55302951|        Search|\n",
      "|42362|   Garrett|  Sanchez|garrettsanchez@ex...| 30|     M| Acre|  32393 Moore Brooks|  69970-000|Tarauacá| Brasil|-8.325245103|-71.55302951|       Organic|\n",
      "|58601|    Robert|    Petty|robertpetty@examp...| 15|     M| Acre|64963 Hall Plaza ...|  69970-000|Tarauacá| Brasil|-8.325245103|-71.55302951|        Search|\n",
      "|89879|     David|    Baker|davidbaker@exampl...| 20|     M| Acre|  8676 Ryan Motorway|  69970-000|Tarauacá| Brasil|-8.325245103|-71.55302951|        Search|\n",
      "+-----+----------+---------+--------------------+---+------+-----+--------------------+-----------+--------+-------+------------+------------+--------------+\n",
      "only showing top 20 rows\n",
      "\n"
     ]
    }
   ],
   "source": [
    "# Replace 'null' (string) with null (None)\n",
    "dim_users_cleaned = dim_users.withColumn(\"city\", when(col(\"city\") == \"null\", None).otherwise(col(\"city\")))\n",
    "\n",
    "dim_users_cleaned.show()\n"
   ]
  },
  {
   "cell_type": "markdown",
   "id": "bfe0e0f1-3965-4b24-b8af-398dbacaa1fe",
   "metadata": {},
   "source": [
    "Melihat kembali null value yang ada pada tabel"
   ]
  },
  {
   "cell_type": "code",
   "execution_count": 14,
   "id": "82019244-4058-4b16-822c-190d7dbf17c4",
   "metadata": {
    "scrolled": true
   },
   "outputs": [
    {
     "name": "stdout",
     "output_type": "stream",
     "text": [
      "+---+----------+---------+-----+---+------+-----+--------------+-----------+----+-------+--------+---------+--------------+\n",
      "| id|first_name|last_name|email|age|gender|state|street_address|postal_code|city|country|latitude|longitude|traffic_source|\n",
      "+---+----------+---------+-----+---+------+-----+--------------+-----------+----+-------+--------+---------+--------------+\n",
      "|  0|         0|        0|    0|  0|     0|    0|             0|          0| 984|      0|       0|        0|             0|\n",
      "+---+----------+---------+-----+---+------+-----+--------------+-----------+----+-------+--------+---------+--------------+\n",
      "\n"
     ]
    }
   ],
   "source": [
    "dim_users_cleaned.select(*(sum(col(c).isNull().cast(\"int\")).alias(c) for c in dim_users_cleaned.columns)).show()"
   ]
  },
  {
   "cell_type": "markdown",
   "id": "6768cd03-b367-4866-ad77-821f7bd91151",
   "metadata": {},
   "source": [
    "Bisa dilihat bahwa sekarang null value di kolom city ada 984"
   ]
  },
  {
   "cell_type": "markdown",
   "id": "1cc66dc4-6004-4c9a-b6e8-ace693f85748",
   "metadata": {},
   "source": [
    "Mengecek duplicates data yang ada pada tabel dim_uesers"
   ]
  },
  {
   "cell_type": "code",
   "execution_count": 15,
   "id": "a64d69e3-a2fd-4d5f-b760-755d4c9f4996",
   "metadata": {},
   "outputs": [
    {
     "name": "stdout",
     "output_type": "stream",
     "text": [
      "+---+----------+---------+-----+---+------+-----+--------------+-----------+----+-------+--------+---------+--------------+\n",
      "| id|first_name|last_name|email|age|gender|state|street_address|postal_code|city|country|latitude|longitude|traffic_source|\n",
      "+---+----------+---------+-----+---+------+-----+--------------+-----------+----+-------+--------+---------+--------------+\n",
      "+---+----------+---------+-----+---+------+-----+--------------+-----------+----+-------+--------+---------+--------------+\n",
      "\n"
     ]
    }
   ],
   "source": [
    "dim_users_cleaned.exceptAll(dim_users_cleaned.dropDuplicates()).show()"
   ]
  },
  {
   "cell_type": "markdown",
   "id": "224dd5e0-162f-43af-8379-09736d13ed33",
   "metadata": {},
   "source": [
    "Dari hasil diatas tidak ada data yang duplicates."
   ]
  },
  {
   "cell_type": "markdown",
   "id": "4ef2648c-5275-4495-ad38-0a16af093cdc",
   "metadata": {},
   "source": [
    "Di script dibawah ini bertujuan untuk menggabungkan kolom 'first_name' dan 'last_name' agar menjadi 1 kolom yang bernama 'name'"
   ]
  },
  {
   "cell_type": "code",
   "execution_count": 16,
   "id": "0aee502c-b17c-48a6-8bb7-d700b088ee10",
   "metadata": {
    "scrolled": true
   },
   "outputs": [
    {
     "name": "stdout",
     "output_type": "stream",
     "text": [
      "+-----+--------------------+---+------+-----+--------------------+-----------+----+-------+------------+------------+--------------+----------------+\n",
      "|   id|               email|age|gender|state|      street_address|postal_code|city|country|    latitude|   longitude|traffic_source|            name|\n",
      "+-----+--------------------+---+------+-----+--------------------+-----------+----+-------+------------+------------+--------------+----------------+\n",
      "|35166|michaelstokes@exa...| 61|     M| Acre|53410 Wilson Poin...|  69980-000|NULL| Brasil|-8.065346116|-72.87094866|        Search|  Michael Stokes|\n",
      "|94007|paulcochran@examp...| 65|     M| Acre|   72561 Nathan Lake|  69980-000|NULL| Brasil|-8.065346116|-72.87094866|       Organic|    Paul Cochran|\n",
      "|40471|breannathompson@e...| 51|     F| Acre|8287 Fisher Shoal...|  69980-000|NULL| Brasil|-8.065346116|-72.87094866|        Search|Breanna Thompson|\n",
      "|93377|thomasmoreno@exam...| 39|     M| Acre|     5183 Julia Port|  69980-000|NULL| Brasil|-8.065346116|-72.87094866|       Organic|   Thomas Moreno|\n",
      "|59515|justingriffin@exa...| 13|     M| Acre| 0635 Gibson Mission|  69980-000|NULL| Brasil|-8.065346116|-72.87094866|       Organic|  Justin Griffin|\n",
      "+-----+--------------------+---+------+-----+--------------------+-----------+----+-------+------------+------------+--------------+----------------+\n",
      "only showing top 5 rows\n",
      "\n"
     ]
    }
   ],
   "source": [
    "\n",
    "# Combine first_name and last_name into full_name\n",
    "dim_users_cleaned = dim_users_cleaned.withColumn(\"name\", concat_ws(\" \", dim_users_cleaned[\"first_name\"], dim_users_cleaned[\"last_name\"]))\n",
    "\n",
    "# Drop the original first_name and last_name columns if no longer needed\n",
    "dim_users_cleaned = dim_users_cleaned.drop(\"first_name\", \"last_name\")\n",
    "\n",
    "dim_users_cleaned.show(5)\n"
   ]
  },
  {
   "cell_type": "markdown",
   "id": "4b33538d-b361-4bde-a49a-e0fc0ae9dae4",
   "metadata": {},
   "source": [
    "Setelah dilihat hasilnya bisa dilihat kolom 'first_name' dan 'last_name' sudah tidak ada dan menjadi 1 kolom baru yaitu kolom 'name'"
   ]
  },
  {
   "cell_type": "code",
   "execution_count": 17,
   "id": "3f816f0c-0ccb-4fe2-a427-4412c20a7fa5",
   "metadata": {},
   "outputs": [
    {
     "name": "stdout",
     "output_type": "stream",
     "text": [
      "root\n",
      " |-- id: integer (nullable = true)\n",
      " |-- email: string (nullable = true)\n",
      " |-- age: integer (nullable = true)\n",
      " |-- gender: string (nullable = true)\n",
      " |-- state: string (nullable = true)\n",
      " |-- street_address: string (nullable = true)\n",
      " |-- postal_code: string (nullable = true)\n",
      " |-- city: string (nullable = true)\n",
      " |-- country: string (nullable = true)\n",
      " |-- latitude: double (nullable = true)\n",
      " |-- longitude: double (nullable = true)\n",
      " |-- traffic_source: string (nullable = true)\n",
      " |-- name: string (nullable = false)\n",
      "\n"
     ]
    }
   ],
   "source": [
    "dim_users_cleaned.printSchema()"
   ]
  },
  {
   "cell_type": "markdown",
   "id": "aa7414ba-72ff-4ea6-b9db-767bbcad0c43",
   "metadata": {},
   "source": [
    "## Product Table"
   ]
  },
  {
   "cell_type": "code",
   "execution_count": 18,
   "id": "6cf2f42e-131c-4bd2-888e-68b7cf3d7d1f",
   "metadata": {},
   "outputs": [
    {
     "name": "stdout",
     "output_type": "stream",
     "text": [
      "+-----+------------------+-----------+--------------------+-----+------------------+----------+--------------------+\n",
      "|   id|              cost|   category|                name|brand|      retail_price|department|                 sku|\n",
      "+-----+------------------+-----------+--------------------+-----+------------------+----------+--------------------+\n",
      "|13842| 2.518749990849756|Accessories|Low Profile Dyed ...|   MG|              6.25|     Women|EBD58B8A3F1D72F42...|\n",
      "|13928|2.3383499148894105|Accessories|Low Profile Dyed ...|   MG| 5.949999809265137|     Women|2EAC42424D12436BD...|\n",
      "|14115| 4.879559879379869|Accessories|Enzyme Regular So...|   MG|10.989999771118164|     Women|EE364229B2791D1EF...|\n",
      "|14157| 4.648769887297898|Accessories|Enzyme Regular So...|   MG|10.989999771118164|     Women|00BD13095D06C20B1...|\n",
      "|14273| 6.507929886473045|Accessories|Washed Canvas Ivy...|   MG|15.989999771118164|     Women|F531DC20FDE20B7AD...|\n",
      "|15674|3.1062499998370185|       Plus|Low Profile Dyed ...|   MG|              6.25|     Women|63894CE404B8C6529...|\n",
      "|15816|3.1772999091416594|       Plus|Low Profile Dyed ...|   MG| 5.949999809265137|     Women|151EA8C2D98CE89C2...|\n",
      "|28646|  8.73562987972319|Accessories|4 Panel Large Bil...|   MG|19.989999771118164|       Men|789334DE6DAA80D83...|\n",
      "|28670|2.6759399153566363|Accessories|Low Profile Dyed ...|   MG| 6.179999828338623|       Men|E74843B99DA8B2977...|\n",
      "|28714| 2.275000000372529|Accessories|Low Profile Dyed ...|   MG|              6.25|       Men|8CA33D44648CC9FEE...|\n",
      "|28779|  7.36748991528362|Accessories|Fishing Hat (01)-...|   MG|20.989999771118164|       Men|167D739013D283895...|\n",
      "|28904|6.7957498848550015|Accessories|Fashion Plaid Ivy...|   MG|15.989999771118164|       Men|0EBD0B8B51EB0D006...|\n",
      "|29007|10.795999868229032|Accessories|Washed Hunting Fi...|   MG|26.989999771118164|       Men|11172787BDF65BA27...|\n",
      "|12777|16.691290760814255|       Swim|Womens MW Tankini...|   MW|  44.9900016784668|     Women|553C3741E8D893FE9...|\n",
      "|12810|21.055320884742144|       Swim|Mw Long Ruffle Ta...|   MW|  44.9900016784668|     Women|5A1106FCB6C233176...|\n",
      "|12812| 21.14530090284795|       Swim|Womens long tanki...|   MW|  44.9900016784668|     Women|179DB74797BDE5F37...|\n",
      "|12853| 18.71584077014294|       Swim|Womens MW Tankini...|   MW|  44.9900016784668|     Women|5EF893A3104AB0CC8...|\n",
      "|12900| 17.39565078823306|       Swim|Womens One Piece/...|   MW|  39.9900016784668|     Women|09EA221D3DB11DF1F...|\n",
      "|13247| 20.65041088706643|       Swim|Womens swimsuit M...|   MW|  44.9900016784668|     Women|EB61C2B1B1BF5D25C...|\n",
      "|13477|22.600890809484422|       Swim|MW Women's Swimsu...|   MW|  54.9900016784668|     Women|DBC50898CF582DFEB...|\n",
      "+-----+------------------+-----------+--------------------+-----+------------------+----------+--------------------+\n",
      "only showing top 20 rows\n",
      "\n"
     ]
    }
   ],
   "source": [
    "dim_product = spark.read.csv('dim_product.csv', header=True, inferSchema=True)\n",
    "dim_product.show()"
   ]
  },
  {
   "cell_type": "markdown",
   "id": "7535ee16-efc8-490b-804f-532bd255cc48",
   "metadata": {},
   "source": [
    "Melihat skema data dari tabel dim_product"
   ]
  },
  {
   "cell_type": "code",
   "execution_count": 19,
   "id": "fce6d2be-12bc-4a06-969e-2bedd72ac286",
   "metadata": {},
   "outputs": [
    {
     "name": "stdout",
     "output_type": "stream",
     "text": [
      "root\n",
      " |-- id: integer (nullable = true)\n",
      " |-- cost: double (nullable = true)\n",
      " |-- category: string (nullable = true)\n",
      " |-- name: string (nullable = true)\n",
      " |-- brand: string (nullable = true)\n",
      " |-- retail_price: double (nullable = true)\n",
      " |-- department: string (nullable = true)\n",
      " |-- sku: string (nullable = true)\n",
      "\n"
     ]
    }
   ],
   "source": [
    "dim_product.printSchema()"
   ]
  },
  {
   "cell_type": "markdown",
   "id": "052ce142-e02d-413b-8cd1-c3c2c97202bb",
   "metadata": {},
   "source": [
    "Melihat statistik data dari tabel dim_product"
   ]
  },
  {
   "cell_type": "code",
   "execution_count": 20,
   "id": "d5d11ecd-29bc-4206-b1b2-4195ca9950a1",
   "metadata": {},
   "outputs": [
    {
     "name": "stdout",
     "output_type": "stream",
     "text": [
      "+-------+-----------------+------------------+-----------+--------------------+---------+------------------+----------+--------------------+\n",
      "|summary|               id|              cost|   category|                name|    brand|      retail_price|department|                 sku|\n",
      "+-------+-----------------+------------------+-----------+--------------------+---------+------------------+----------+--------------------+\n",
      "|  count|            29120|             29120|      29120|               29118|    29096|             29120|     29120|               29120|\n",
      "|   mean|          14560.5|   28.481774240437|       NULL|                NULL| Infinity|59.220163865731955|      NULL|                NULL|\n",
      "| stddev|8406.364255729115|30.624681214377695|       NULL|                NULL|      NaN|  65.8889266957586|      NULL|                NULL|\n",
      "|    min|                1|0.0082999997779726|Accessories|!iT Jeans Junior'...|!it Jeans|0.0199999995529651|       Men|00003E3B9E5336685...|\n",
      "|    max|            29120| 557.1510021798313|  Underwear|Â Â Exclusive Haw...|wear ease|             999.0|     Women|FFFCC1A3964B4AD66...|\n",
      "+-------+-----------------+------------------+-----------+--------------------+---------+------------------+----------+--------------------+\n",
      "\n"
     ]
    }
   ],
   "source": [
    "dim_product.describe().show()"
   ]
  },
  {
   "cell_type": "markdown",
   "id": "3babf90d-c40a-4414-ae2e-9daf70c8cc5c",
   "metadata": {},
   "source": [
    "Melihat nilai null value di semua kolom"
   ]
  },
  {
   "cell_type": "code",
   "execution_count": 21,
   "id": "04e5b2f5-9fc2-422d-8e64-077241316673",
   "metadata": {},
   "outputs": [
    {
     "name": "stdout",
     "output_type": "stream",
     "text": [
      "+---+----+--------+----+-----+------------+----------+---+\n",
      "| id|cost|category|name|brand|retail_price|department|sku|\n",
      "+---+----+--------+----+-----+------------+----------+---+\n",
      "|  0|   0|       0|   2|   24|           0|         0|  0|\n",
      "+---+----+--------+----+-----+------------+----------+---+\n",
      "\n"
     ]
    }
   ],
   "source": [
    "dim_product.select(*(sum(col(c).isNull().cast(\"int\")).alias(c) for c in dim_product.columns)).show()"
   ]
  },
  {
   "cell_type": "markdown",
   "id": "f077bb5e-540f-45e0-b34e-4bfac0c9b230",
   "metadata": {},
   "source": [
    "Dari hasil diatas terdapat null value pada kolom 'name' yaitu 2, dan kolom brand yaitu 24."
   ]
  },
  {
   "cell_type": "markdown",
   "id": "8a9a33aa-6ca4-4b44-be82-7a28542d89e7",
   "metadata": {},
   "source": [
    "Disini membuang nilai null yang ada pada kolom 'name' karena menurut saya jika pada kolom tersebut terdapat nilai null maka tidak perlu digunakan jadi dibuang saja."
   ]
  },
  {
   "cell_type": "code",
   "execution_count": 22,
   "id": "0fd752a3-9e90-44ea-90a4-c80a24e4aa27",
   "metadata": {},
   "outputs": [],
   "source": [
    "dim_product_cleaned = dim_product.filter(dim_product.name.isNotNull())"
   ]
  },
  {
   "cell_type": "code",
   "execution_count": 23,
   "id": "c6d15fd7-1e95-4fbc-83b1-29251a66b0cc",
   "metadata": {},
   "outputs": [
    {
     "name": "stdout",
     "output_type": "stream",
     "text": [
      "+---+----+--------+----+-----+------------+----------+---+\n",
      "| id|cost|category|name|brand|retail_price|department|sku|\n",
      "+---+----+--------+----+-----+------------+----------+---+\n",
      "|  0|   0|       0|   0|   24|           0|         0|  0|\n",
      "+---+----+--------+----+-----+------------+----------+---+\n",
      "\n"
     ]
    }
   ],
   "source": [
    "dim_product_cleaned.select(*(sum(col(c).isNull().cast(\"int\")).alias(c) for c in dim_product_cleaned.columns)).show()"
   ]
  },
  {
   "cell_type": "markdown",
   "id": "442e4507-4bbb-466a-a1c3-250ec857bdf4",
   "metadata": {},
   "source": [
    "Disini sudah terlihat bahwa kolom name sudah tidak ada nilai null, pada kolom brand nilai null tidak dibersihkan karena memang pada data bisa saja tidak ada nama brandnya jadi nilai null tersebut tidak dibersihkan."
   ]
  },
  {
   "cell_type": "markdown",
   "id": "7fd5a34b-1c23-4f54-abdf-76aa748cee7c",
   "metadata": {},
   "source": [
    "Mengecek duplicates data "
   ]
  },
  {
   "cell_type": "code",
   "execution_count": 24,
   "id": "8cda3cc6-0b31-4ade-b588-c4d8e6a50ec9",
   "metadata": {},
   "outputs": [
    {
     "name": "stdout",
     "output_type": "stream",
     "text": [
      "+---+----+--------+----+-----+------------+----------+---+\n",
      "| id|cost|category|name|brand|retail_price|department|sku|\n",
      "+---+----+--------+----+-----+------------+----------+---+\n",
      "+---+----+--------+----+-----+------------+----------+---+\n",
      "\n"
     ]
    }
   ],
   "source": [
    "dim_product_cleaned.exceptAll(dim_product_cleaned.dropDuplicates()).show()"
   ]
  },
  {
   "cell_type": "markdown",
   "id": "bcb44b5c-f907-4c22-854f-454e7714e5d7",
   "metadata": {},
   "source": [
    "Dari hasil diatas tidak ada data yang duplicates."
   ]
  },
  {
   "cell_type": "markdown",
   "id": "62d4bfb0-4528-4967-acef-56a44bba2acc",
   "metadata": {},
   "source": [
    "## Order Item Table"
   ]
  },
  {
   "cell_type": "code",
   "execution_count": 25,
   "id": "a68f05ec-9b6e-4e88-ba6e-fe7d901fd041",
   "metadata": {},
   "outputs": [
    {
     "name": "stdout",
     "output_type": "stream",
     "text": [
      "+------+--------+----------+\n",
      "|    id|order_id|product_id|\n",
      "+------+--------+----------+\n",
      "|125384|   86236|     14235|\n",
      "|151956|  104671|     14235|\n",
      "| 11373|    7846|     14235|\n",
      "| 76647|   52643|     14159|\n",
      "|  4644|    3242|     14159|\n",
      "|108287|   74360|     14159|\n",
      "|109376|   75102|     14159|\n",
      "|145345|  100046|     14159|\n",
      "|138687|   95464|     14159|\n",
      "| 64424|   44227|     14159|\n",
      "| 42842|   29481|     14159|\n",
      "|122008|   83889|     14159|\n",
      "| 90561|   62178|     28700|\n",
      "| 24568|   16934|     28700|\n",
      "| 52004|   35738|     14202|\n",
      "| 66708|   45773|     14202|\n",
      "| 69179|   47466|     28700|\n",
      "|116588|   80159|     28700|\n",
      "|164235|  113127|     28700|\n",
      "|  4888|    3418|     14202|\n",
      "+------+--------+----------+\n",
      "only showing top 20 rows\n",
      "\n"
     ]
    }
   ],
   "source": [
    "dim_order_item = spark.read.csv('dim_order_item.csv', header=True, inferSchema=True)\n",
    "dim_order_item.show()"
   ]
  },
  {
   "cell_type": "markdown",
   "id": "371e30f0-695d-4214-b3a1-5f4a253f22b7",
   "metadata": {},
   "source": [
    "Melihat skema data pada table dim_order_item"
   ]
  },
  {
   "cell_type": "code",
   "execution_count": 26,
   "id": "43dc001e-fafa-46d1-bbfd-34b8a3c34ec7",
   "metadata": {},
   "outputs": [
    {
     "name": "stdout",
     "output_type": "stream",
     "text": [
      "root\n",
      " |-- id: integer (nullable = true)\n",
      " |-- order_id: integer (nullable = true)\n",
      " |-- product_id: integer (nullable = true)\n",
      "\n"
     ]
    }
   ],
   "source": [
    "dim_order_item.printSchema()"
   ]
  },
  {
   "cell_type": "markdown",
   "id": "56fd38b2-6bce-4063-bd36-90ba9fb2e7ea",
   "metadata": {},
   "source": [
    "Melihat statistik data yang ada pada table dim_order_item"
   ]
  },
  {
   "cell_type": "code",
   "execution_count": 27,
   "id": "fec2d7be-7cf8-4296-93cb-346000e6473a",
   "metadata": {},
   "outputs": [
    {
     "name": "stdout",
     "output_type": "stream",
     "text": [
      "+-------+------------------+------------------+------------------+\n",
      "|summary|                id|          order_id|        product_id|\n",
      "+-------+------------------+------------------+------------------+\n",
      "|  count|            182175|            182175|            182175|\n",
      "|   mean|           91088.0|62655.830207218336|15274.241597365171|\n",
      "| stddev|52589.536982179416|36211.444583372606| 8410.335743637832|\n",
      "|    min|                 1|                 1|                 1|\n",
      "|    max|            182175|            125431|             29120|\n",
      "+-------+------------------+------------------+------------------+\n",
      "\n"
     ]
    }
   ],
   "source": [
    "dim_order_item.describe().show()"
   ]
  },
  {
   "cell_type": "markdown",
   "id": "fee94099-c33f-4b01-af8f-d81a4abc64cb",
   "metadata": {},
   "source": [
    "Mengecek null value yang ada pada tabel"
   ]
  },
  {
   "cell_type": "code",
   "execution_count": 28,
   "id": "baffcefd-f453-4303-8893-9944d342189f",
   "metadata": {},
   "outputs": [
    {
     "name": "stdout",
     "output_type": "stream",
     "text": [
      "+---+--------+----------+\n",
      "| id|order_id|product_id|\n",
      "+---+--------+----------+\n",
      "|  0|       0|         0|\n",
      "+---+--------+----------+\n",
      "\n"
     ]
    }
   ],
   "source": [
    "dim_order_item.select(*(sum(col(c).isNull().cast(\"int\")).alias(c) for c in dim_order_item.columns)).show()"
   ]
  },
  {
   "cell_type": "markdown",
   "id": "23cb0d22-79c5-4a7f-8d76-0ac922c97868",
   "metadata": {},
   "source": [
    "Dapat dilihat bahwa semua kolom tidak memiliki null value."
   ]
  },
  {
   "cell_type": "markdown",
   "id": "f31c1462-f0f8-4246-8aa0-04ae2b6e61f0",
   "metadata": {},
   "source": [
    "Mengecek apakah ada data yang duplicates"
   ]
  },
  {
   "cell_type": "code",
   "execution_count": 29,
   "id": "48510777-97c4-4e4d-8974-a7a0c7261c8f",
   "metadata": {},
   "outputs": [
    {
     "name": "stdout",
     "output_type": "stream",
     "text": [
      "+---+--------+----------+\n",
      "| id|order_id|product_id|\n",
      "+---+--------+----------+\n",
      "+---+--------+----------+\n",
      "\n"
     ]
    }
   ],
   "source": [
    "dim_order_item.exceptAll(dim_order_item.dropDuplicates()).show()"
   ]
  },
  {
   "cell_type": "markdown",
   "id": "b87e3de7-9961-43fa-92d4-e315185d0945",
   "metadata": {},
   "source": [
    "Dapat dilihat bahwa tidak ada data yang duplicates."
   ]
  },
  {
   "cell_type": "markdown",
   "id": "00bf0933-e4ec-47d4-9d22-41e397200a14",
   "metadata": {},
   "source": [
    "# Data Load to data warehouse"
   ]
  },
  {
   "cell_type": "code",
   "execution_count": 32,
   "id": "2586aa21-2f8e-4456-b7d2-c4dfdbb624fc",
   "metadata": {},
   "outputs": [],
   "source": [
    "# PostgreSQL JDBC Connection\n",
    "postgres_url = \"jdbc:postgresql://host.docker.internal:5432/datawarehouse_ddl_daniswara\"\n",
    "postgres_properties = {\n",
    "    \"user\": \"postgres\",\n",
    "    \"password\": \"postgres\",\n",
    "    \"driver\": \"org.postgresql.Driver\"\n",
    "}\n",
    "\n",
    "#Write DataFrame to PostgreSQL\n",
    "fact_order.write \\\n",
    "    .jdbc(url=postgres_url, table=\"orders\", mode=\"overwrite\", properties=postgres_properties)\n",
    "dim_users_cleaned.write \\\n",
    "    .jdbc(url=postgres_url, table=\"users\", mode=\"overwrite\", properties=postgres_properties)\n",
    "dim_product_cleaned.write \\\n",
    "    .jdbc(url=postgres_url, table=\"products\", mode=\"overwrite\", properties=postgres_properties)\n",
    "dim_order_item.write \\\n",
    "    .jdbc(url=postgres_url, table=\"order_items\", mode=\"overwrite\", properties=postgres_properties)\n"
   ]
  },
  {
   "cell_type": "code",
   "execution_count": null,
   "id": "198683ec-7998-4cd6-b427-ba06803f0015",
   "metadata": {},
   "outputs": [],
   "source": []
  }
 ],
 "metadata": {
  "kernelspec": {
   "display_name": "Python 3 (ipykernel)",
   "language": "python",
   "name": "python3"
  },
  "language_info": {
   "codemirror_mode": {
    "name": "ipython",
    "version": 3
   },
   "file_extension": ".py",
   "mimetype": "text/x-python",
   "name": "python",
   "nbconvert_exporter": "python",
   "pygments_lexer": "ipython3",
   "version": "3.12.8"
  }
 },
 "nbformat": 4,
 "nbformat_minor": 5
}
